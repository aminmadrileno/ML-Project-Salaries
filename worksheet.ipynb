{
 "cells": [
  {
   "cell_type": "code",
   "execution_count": 17,
   "id": "3e73bbf8",
   "metadata": {},
   "outputs": [],
   "source": [
    "#import libraries for machine learning \n",
    "import pandas as pd\n",
    "import numpy as np\n",
    "import matplotlib.pyplot as plt\n",
    "import seaborn as sns\n",
    "%matplotlib inline\n",
    "import warnings \n",
    "warnings.filterwarnings('ignore')\n",
    "import sklearn\n",
    "from sklearn.model_selection import train_test_split\n",
    "from sklearn.linear_model import LinearRegression\n",
    "from sklearn import metrics\n",
    "from sklearn.metrics import mean_squared_error\n",
    "from sklearn.metrics import r2_score\n",
    "from sklearn.metrics import mean_absolute_error\n",
    "#import random forest regressor\n",
    "from sklearn.ensemble import RandomForestRegressor"
   ]
  },
  {
   "cell_type": "code",
   "execution_count": 33,
   "id": "6f24d403",
   "metadata": {},
   "outputs": [],
   "source": [
    "#read the data\n",
    "muestra = pd.read_csv('muestra.csv')\n",
    "salaries = pd.read_csv('salaries_data.csv')\n",
    "testeo = pd.read_csv('testeo.csv')"
   ]
  },
  {
   "cell_type": "code",
   "execution_count": 34,
   "id": "deef4cb8",
   "metadata": {},
   "outputs": [
    {
     "data": {
      "text/html": [
       "<div>\n",
       "<style scoped>\n",
       "    .dataframe tbody tr th:only-of-type {\n",
       "        vertical-align: middle;\n",
       "    }\n",
       "\n",
       "    .dataframe tbody tr th {\n",
       "        vertical-align: top;\n",
       "    }\n",
       "\n",
       "    .dataframe thead th {\n",
       "        text-align: right;\n",
       "    }\n",
       "</style>\n",
       "<table border=\"1\" class=\"dataframe\">\n",
       "  <thead>\n",
       "    <tr style=\"text-align: right;\">\n",
       "      <th></th>\n",
       "      <th>work_year</th>\n",
       "      <th>experience_level</th>\n",
       "      <th>employment_type</th>\n",
       "      <th>job_title</th>\n",
       "      <th>salary</th>\n",
       "      <th>salary_currency</th>\n",
       "      <th>salary_in_usd</th>\n",
       "      <th>employee_residence</th>\n",
       "      <th>remote_ratio</th>\n",
       "      <th>company_location</th>\n",
       "      <th>company_size</th>\n",
       "    </tr>\n",
       "  </thead>\n",
       "  <tbody>\n",
       "    <tr>\n",
       "      <th>0</th>\n",
       "      <td>2022</td>\n",
       "      <td>SE</td>\n",
       "      <td>FT</td>\n",
       "      <td>Data Engineer</td>\n",
       "      <td>140250</td>\n",
       "      <td>USD</td>\n",
       "      <td>140250</td>\n",
       "      <td>US</td>\n",
       "      <td>100</td>\n",
       "      <td>US</td>\n",
       "      <td>M</td>\n",
       "    </tr>\n",
       "    <tr>\n",
       "      <th>1</th>\n",
       "      <td>2022</td>\n",
       "      <td>SE</td>\n",
       "      <td>FT</td>\n",
       "      <td>Data Engineer</td>\n",
       "      <td>135000</td>\n",
       "      <td>USD</td>\n",
       "      <td>135000</td>\n",
       "      <td>US</td>\n",
       "      <td>100</td>\n",
       "      <td>US</td>\n",
       "      <td>M</td>\n",
       "    </tr>\n",
       "    <tr>\n",
       "      <th>2</th>\n",
       "      <td>2021</td>\n",
       "      <td>MI</td>\n",
       "      <td>FT</td>\n",
       "      <td>BI Data Analyst</td>\n",
       "      <td>100000</td>\n",
       "      <td>USD</td>\n",
       "      <td>100000</td>\n",
       "      <td>US</td>\n",
       "      <td>100</td>\n",
       "      <td>US</td>\n",
       "      <td>M</td>\n",
       "    </tr>\n",
       "    <tr>\n",
       "      <th>3</th>\n",
       "      <td>2021</td>\n",
       "      <td>MI</td>\n",
       "      <td>CT</td>\n",
       "      <td>ML Engineer</td>\n",
       "      <td>270000</td>\n",
       "      <td>USD</td>\n",
       "      <td>270000</td>\n",
       "      <td>US</td>\n",
       "      <td>100</td>\n",
       "      <td>US</td>\n",
       "      <td>L</td>\n",
       "    </tr>\n",
       "    <tr>\n",
       "      <th>4</th>\n",
       "      <td>2021</td>\n",
       "      <td>MI</td>\n",
       "      <td>FT</td>\n",
       "      <td>Data Engineer</td>\n",
       "      <td>22000</td>\n",
       "      <td>EUR</td>\n",
       "      <td>26005</td>\n",
       "      <td>RO</td>\n",
       "      <td>0</td>\n",
       "      <td>US</td>\n",
       "      <td>L</td>\n",
       "    </tr>\n",
       "  </tbody>\n",
       "</table>\n",
       "</div>"
      ],
      "text/plain": [
       "   work_year experience_level employment_type        job_title  salary  \\\n",
       "0       2022               SE              FT    Data Engineer  140250   \n",
       "1       2022               SE              FT    Data Engineer  135000   \n",
       "2       2021               MI              FT  BI Data Analyst  100000   \n",
       "3       2021               MI              CT      ML Engineer  270000   \n",
       "4       2021               MI              FT    Data Engineer   22000   \n",
       "\n",
       "  salary_currency  salary_in_usd employee_residence  remote_ratio  \\\n",
       "0             USD         140250                 US           100   \n",
       "1             USD         135000                 US           100   \n",
       "2             USD         100000                 US           100   \n",
       "3             USD         270000                 US           100   \n",
       "4             EUR          26005                 RO             0   \n",
       "\n",
       "  company_location company_size  \n",
       "0               US            M  \n",
       "1               US            M  \n",
       "2               US            M  \n",
       "3               US            L  \n",
       "4               US            L  "
      ]
     },
     "execution_count": 34,
     "metadata": {},
     "output_type": "execute_result"
    }
   ],
   "source": [
    "salaries.head()"
   ]
  },
  {
   "cell_type": "code",
   "execution_count": 35,
   "id": "a60d8360",
   "metadata": {},
   "outputs": [],
   "source": [
    "salaries.drop('salary_currency', axis=1, inplace=True)"
   ]
  },
  {
   "cell_type": "code",
   "execution_count": 36,
   "id": "7a452d50",
   "metadata": {},
   "outputs": [],
   "source": [
    "salaries.drop('salary', axis=1, inplace=True)"
   ]
  },
  {
   "cell_type": "code",
   "execution_count": 24,
   "id": "d59a813a",
   "metadata": {},
   "outputs": [],
   "source": [
    "#salaries.employee_residence = ['other' if x not in ctrs else x for x in salaries.employee_residence]"
   ]
  },
  {
   "cell_type": "code",
   "execution_count": 30,
   "id": "89a4d6e3",
   "metadata": {},
   "outputs": [],
   "source": [
    "#cmpny = salaries.company_location.value_counts()[:10]"
   ]
  },
  {
   "cell_type": "code",
   "execution_count": 31,
   "id": "4a1d5501",
   "metadata": {},
   "outputs": [],
   "source": [
    "#salaries.company_location = ['other' if x not in cmpny else x for x in salaries.company_location]"
   ]
  },
  {
   "cell_type": "code",
   "execution_count": 40,
   "id": "cef31f00",
   "metadata": {},
   "outputs": [
    {
     "data": {
      "text/html": [
       "<div>\n",
       "<style scoped>\n",
       "    .dataframe tbody tr th:only-of-type {\n",
       "        vertical-align: middle;\n",
       "    }\n",
       "\n",
       "    .dataframe tbody tr th {\n",
       "        vertical-align: top;\n",
       "    }\n",
       "\n",
       "    .dataframe thead th {\n",
       "        text-align: right;\n",
       "    }\n",
       "</style>\n",
       "<table border=\"1\" class=\"dataframe\">\n",
       "  <thead>\n",
       "    <tr style=\"text-align: right;\">\n",
       "      <th></th>\n",
       "      <th>work_year</th>\n",
       "      <th>experience_level</th>\n",
       "      <th>employment_type</th>\n",
       "      <th>job_title</th>\n",
       "      <th>salary_in_usd</th>\n",
       "      <th>employee_residence</th>\n",
       "      <th>remote_ratio</th>\n",
       "      <th>company_location</th>\n",
       "      <th>company_size</th>\n",
       "    </tr>\n",
       "  </thead>\n",
       "  <tbody>\n",
       "    <tr>\n",
       "      <th>0</th>\n",
       "      <td>2022</td>\n",
       "      <td>SE</td>\n",
       "      <td>FT</td>\n",
       "      <td>Data Engineer</td>\n",
       "      <td>140250</td>\n",
       "      <td>US</td>\n",
       "      <td>100</td>\n",
       "      <td>US</td>\n",
       "      <td>M</td>\n",
       "    </tr>\n",
       "    <tr>\n",
       "      <th>1</th>\n",
       "      <td>2022</td>\n",
       "      <td>SE</td>\n",
       "      <td>FT</td>\n",
       "      <td>Data Engineer</td>\n",
       "      <td>135000</td>\n",
       "      <td>US</td>\n",
       "      <td>100</td>\n",
       "      <td>US</td>\n",
       "      <td>M</td>\n",
       "    </tr>\n",
       "    <tr>\n",
       "      <th>2</th>\n",
       "      <td>2021</td>\n",
       "      <td>MI</td>\n",
       "      <td>FT</td>\n",
       "      <td>BI Data Analyst</td>\n",
       "      <td>100000</td>\n",
       "      <td>US</td>\n",
       "      <td>100</td>\n",
       "      <td>US</td>\n",
       "      <td>M</td>\n",
       "    </tr>\n",
       "    <tr>\n",
       "      <th>3</th>\n",
       "      <td>2021</td>\n",
       "      <td>MI</td>\n",
       "      <td>CT</td>\n",
       "      <td>ML Engineer</td>\n",
       "      <td>270000</td>\n",
       "      <td>US</td>\n",
       "      <td>100</td>\n",
       "      <td>US</td>\n",
       "      <td>L</td>\n",
       "    </tr>\n",
       "    <tr>\n",
       "      <th>4</th>\n",
       "      <td>2021</td>\n",
       "      <td>MI</td>\n",
       "      <td>FT</td>\n",
       "      <td>Data Engineer</td>\n",
       "      <td>26005</td>\n",
       "      <td>RO</td>\n",
       "      <td>0</td>\n",
       "      <td>US</td>\n",
       "      <td>L</td>\n",
       "    </tr>\n",
       "  </tbody>\n",
       "</table>\n",
       "</div>"
      ],
      "text/plain": [
       "   work_year experience_level employment_type        job_title  salary_in_usd  \\\n",
       "0       2022               SE              FT    Data Engineer         140250   \n",
       "1       2022               SE              FT    Data Engineer         135000   \n",
       "2       2021               MI              FT  BI Data Analyst         100000   \n",
       "3       2021               MI              CT      ML Engineer         270000   \n",
       "4       2021               MI              FT    Data Engineer          26005   \n",
       "\n",
       "  employee_residence  remote_ratio company_location company_size  \n",
       "0                 US           100               US            M  \n",
       "1                 US           100               US            M  \n",
       "2                 US           100               US            M  \n",
       "3                 US           100               US            L  \n",
       "4                 RO             0               US            L  "
      ]
     },
     "execution_count": 40,
     "metadata": {},
     "output_type": "execute_result"
    }
   ],
   "source": [
    "salaries.head()"
   ]
  },
  {
   "cell_type": "code",
   "execution_count": 50,
   "id": "e4a21621",
   "metadata": {},
   "outputs": [
    {
     "data": {
      "text/plain": [
       "data scientist                              121\n",
       "data engineer                               111\n",
       "data analyst                                 81\n",
       "machine learning engineer                    31\n",
       "research scientist                           12\n",
       "data science manager                         12\n",
       "data architect                                8\n",
       "machine learning scientist                    7\n",
       "data analytics manager                        7\n",
       "big data engineer                             7\n",
       "director of data science                      7\n",
       "ml engineer                                   6\n",
       "lead data engineer                            6\n",
       "principal data scientist                      6\n",
       "applied data scientist                        5\n",
       "data engineering manager                      5\n",
       "data science consultant                       5\n",
       "ai scientist                                  5\n",
       "bi data analyst                               5\n",
       "head of data                                  4\n",
       "business data analyst                         4\n",
       "computer vision engineer                      4\n",
       "analytics engineer                            3\n",
       "lead data scientist                           3\n",
       "applied machine learning scientist            3\n",
       "cloud data engineer                           2\n",
       "machine learning infrastructure engineer      2\n",
       "lead data analyst                             2\n",
       "data analytics engineer                       2\n",
       "director of data engineering                  2\n",
       "etl developer                                 2\n",
       "head of data science                          2\n",
       "machine learning developer                    2\n",
       "data science engineer                         2\n",
       "machine learning manager                      1\n",
       "staff data scientist                          1\n",
       "head of machine learning                      1\n",
       "finance data analyst                          1\n",
       "financial data analyst                        1\n",
       "data analytics lead                           1\n",
       "3d computer vision researcher                 1\n",
       "principal data analyst                        1\n",
       "product data analyst                          1\n",
       "big data architect                            1\n",
       "data specialist                               1\n",
       "lead machine learning engineer                1\n",
       "marketing data analyst                        1\n",
       "computer vision software engineer             1\n",
       "Name: job_title, dtype: int64"
      ]
     },
     "execution_count": 50,
     "metadata": {},
     "output_type": "execute_result"
    }
   ],
   "source": [
    "salaries.job_title = salaries.job_title.str.lower()\n",
    "salaries.job_title.value_counts()"
   ]
  },
  {
   "cell_type": "code",
   "execution_count": 72,
   "id": "68c045e9",
   "metadata": {},
   "outputs": [],
   "source": [
    "salaries.job_title.value_counts()[:10]\n",
    "#clean the rest of the column into categories like if it says ML or machine learning it will become machine learning\n",
    "salaries.job_title = ['machine learning' if 'ml' in x or 'machine learning' in x or 'ai' in x else x for x in salaries.job_title] \n",
    "salaries.job_title = ['data scientist' if 'data scientist' in x or 'science' in x else x for x in salaries.job_title]\n",
    "salaries.job_title = ['data engineer' if 'data engineer' in x else x for x in salaries.job_title]\n",
    "salaries.job_title = ['data analyst' if 'data analyst' in x or 'analytics' in x or 'analyst' in x else x for x in salaries.job_title]\n",
    "salaries.job_title = ['data architect' if 'data architect' in x or 'architect' in x else x for x in salaries.job_title]\n",
    "salaries.job_title = ['computer vision' if 'computer vision' in x or 'vision' in x else x for x in salaries.job_title]\n"
   ]
  },
  {
   "cell_type": "code",
   "execution_count": 73,
   "id": "2ed0dbca",
   "metadata": {},
   "outputs": [
    {
     "data": {
      "text/plain": [
       "data scientist        164\n",
       "data engineer         133\n",
       "data analyst          110\n",
       "machine learning       59\n",
       "research scientist     12\n",
       "data architect          9\n",
       "computer vision         6\n",
       "head of data            4\n",
       "etl developer           2\n",
       "data specialist         1\n",
       "Name: job_title, dtype: int64"
      ]
     },
     "execution_count": 73,
     "metadata": {},
     "output_type": "execute_result"
    }
   ],
   "source": [
    "salaries.job_title.value_counts()"
   ]
  },
  {
   "cell_type": "code",
   "execution_count": 75,
   "id": "c2d1cd61",
   "metadata": {},
   "outputs": [],
   "source": [
    "testeo.head()\n",
    "#same cleaning as the salaries data job title now for the testeo data\n",
    "testeo.job_title = testeo.job_title.str.lower()\n",
    "testeo.job_title = ['machine learning' if 'ml' in x or 'machine learning' in x or 'ai' in x else x for x in testeo.job_title]\n",
    "testeo.job_title = ['data scientist' if 'data scientist' in x or 'science' in x else x for x in testeo.job_title]\n",
    "testeo.job_title = ['data engineer' if 'data engineer' in x else x for x in testeo.job_title]\n",
    "testeo.job_title = ['data analyst' if 'data analyst' in x or 'analytics' in x or 'analyst' in x else x for x in testeo.job_title]\n",
    "testeo.job_title = ['data architect' if 'data architect' in x or 'architect' in x else x for x in testeo.job_title]\n",
    "testeo.job_title = ['computer vision' if 'computer vision' in x or 'vision' in x else x for x in testeo.job_title]"
   ]
  },
  {
   "cell_type": "code",
   "execution_count": 76,
   "id": "e5a71ae9",
   "metadata": {},
   "outputs": [
    {
     "data": {
      "text/plain": [
       "data scientist        28\n",
       "data analyst          25\n",
       "data engineer         25\n",
       "machine learning      16\n",
       "computer vision        4\n",
       "research scientist     4\n",
       "data architect         3\n",
       "head of data           1\n",
       "nlp engineer           1\n",
       "Name: job_title, dtype: int64"
      ]
     },
     "execution_count": 76,
     "metadata": {},
     "output_type": "execute_result"
    }
   ],
   "source": [
    "testeo.job_title.value_counts()"
   ]
  },
  {
   "cell_type": "code",
   "execution_count": null,
   "id": "31e3c231",
   "metadata": {},
   "outputs": [],
   "source": []
  }
 ],
 "metadata": {
  "kernelspec": {
   "display_name": "Python 3 (ipykernel)",
   "language": "python",
   "name": "python3"
  },
  "language_info": {
   "codemirror_mode": {
    "name": "ipython",
    "version": 3
   },
   "file_extension": ".py",
   "mimetype": "text/x-python",
   "name": "python",
   "nbconvert_exporter": "python",
   "pygments_lexer": "ipython3",
   "version": "3.9.13"
  }
 },
 "nbformat": 4,
 "nbformat_minor": 5
}
